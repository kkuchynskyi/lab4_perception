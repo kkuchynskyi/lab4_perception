{
 "cells": [
  {
   "cell_type": "code",
   "execution_count": null,
   "metadata": {},
   "outputs": [],
   "source": [
    "import random\n",
    "import math\n",
    "import time\n",
    "import json\n",
    "import os\n",
    "from numba import jit\n",
    "\n",
    "import numpy as np\n",
    "from tqdm import tqdm\n",
    "from PIL import Image\n",
    "from sklearn.mixture import GaussianMixture as GMM\n",
    "from numpy.linalg import det as det\n",
    "\n",
    "from utils import trws, restore_k"
   ]
  },
  {
   "cell_type": "code",
   "execution_count": null,
   "metadata": {},
   "outputs": [],
   "source": [
    "img = np.array(Image.open(\"./lab4_data/alpaca.jpg\"), dtype=np.float32)\n",
    "m, n, c = img.shape\n",
    "segm = np.array(Image.open(\"./lab4_data/alpaca-segmentation.png\"), dtype=np.float32)\n",
    "print(\"img.shape : \", img.shape, \"; segm.shape : \", segm.shape)"
   ]
  },
  {
   "cell_type": "markdown",
   "metadata": {},
   "source": [
    "###  First iteration"
   ]
  },
  {
   "cell_type": "code",
   "execution_count": 3,
   "metadata": {},
   "outputs": [],
   "source": [
    "fg = img[segm.sum(axis=-1) > 0]\n",
    "bg = img[segm.sum(axis=-1) == 0]\n",
    "###\n",
    "fgm = GMM(n_components=3).fit(fg)\n",
    "fg_probs = fgm.weights_\n",
    "fg_means = fgm.means_\n",
    "fg_sigmas = fgm.covariances_\n",
    "###\n",
    "bgm = GMM(n_components=3).fit(bg)\n",
    "bg_probs = bgm.weights_\n",
    "bg_means = bgm.means_\n",
    "bg_sigmas = bgm.covariances_"
   ]
  },
  {
   "cell_type": "code",
   "execution_count": 4,
   "metadata": {},
   "outputs": [],
   "source": [
    "g = np.zeros((m, n, 4, 2, 2), dtype=np.float32)\n",
    "gamma = 50\n",
    "@jit(nopython=True)\n",
    "def call_g(g, img, m, n, gamma):\n",
    "    n_connections = 0\n",
    "    beta = 0\n",
    "    for i in range(m):\n",
    "        for j in range(n):\n",
    "            # up\n",
    "            if i > 0:\n",
    "                beta += np.linalg.norm(img[i, j, :] - img[i-1, j, :])**2\n",
    "                n_connections +=1\n",
    "            # down\n",
    "            if i < m - 1:\n",
    "                beta += np.linalg.norm(img[i, j, :] - img[i+1, j, :])**2\n",
    "                n_connections +=1\n",
    "            # left\n",
    "            if j > 0:\n",
    "                beta += np.linalg.norm(img[i, j, :] - img[i, j-1, :])**2\n",
    "                n_connections +=1\n",
    "            # right\n",
    "            if j < n - 1:\n",
    "                beta += np.linalg.norm(img[i, j, :] - img[i, j+1, :])**2\n",
    "                n_connections +=1\n",
    "    beta /= n_connections\n",
    "    \n",
    "    for i in range(m):\n",
    "        for j in range(n):\n",
    "            # up\n",
    "            if i > 0:\n",
    "                g[i, j, 0, 0, 1] = np.exp(-gamma*np.exp(-(np.linalg.norm(img[i, j, :] - img[i-1, j, :])**2)/(2*beta)))\n",
    "                g[i, j, 0, 1, 0] = np.exp(-gamma*np.exp(-(np.linalg.norm(img[i, j, :] - img[i-1, j, :])**2)/(2*beta)))\n",
    "            # down\n",
    "            if i < m - 1:\n",
    "                g[i, j, 1, 0, 1] = np.exp(-gamma*np.exp(-(np.linalg.norm(img[i, j, :] - img[i+1, j, :])**2)/(2*beta)))\n",
    "                g[i, j, 1, 1, 0] = np.exp(-gamma*np.exp(-(np.linalg.norm(img[i, j, :] - img[i+1, j, :])**2)/(2*beta)))\n",
    "            # left\n",
    "            if j > 0:\n",
    "                g[i, j, 2, 0, 1] = np.exp(-gamma*np.exp(-(np.linalg.norm(img[i, j, :] - img[i, j-1, :])**2)/(2*beta)))\n",
    "                g[i, j, 2, 1, 0] = np.exp(-gamma*np.exp(-(np.linalg.norm(img[i, j, :] - img[i, j-1, :])**2)/(2*beta)))\n",
    "            # right\n",
    "            if j < n - 1:\n",
    "                g[i, j, 3, 0, 1] = np.exp(-gamma*np.exp(-(np.linalg.norm(img[i, j, :] - img[i, j+1, :])**2)/(2*beta)))\n",
    "                g[i, j, 3, 1, 0] = np.exp(-gamma*np.exp(-(np.linalg.norm(img[i, j, :] - img[i, j+1, :])**2)/(2*beta)))\n",
    "    \n",
    "call_g(g, img, m, n, gamma)"
   ]
  },
  {
   "cell_type": "code",
   "execution_count": 5,
   "metadata": {},
   "outputs": [
    {
     "name": "stderr",
     "output_type": "stream",
     "text": [
      "<ipython-input-5-17301a89f406>:8: NumbaPerformanceWarning: np.dot() is faster on contiguous arrays, called on (array(float64, 1d, C), array(float64, 2d, A))\n",
      "  exp_value = np.exp(-0.5*(img[i, j, :] - fg_means[fg_index]).dot(np.linalg.inv(fg_sigmas[fg_index])).dot(img[i, j, :] - fg_means[fg_index]))\n"
     ]
    }
   ],
   "source": [
    "q = np.zeros((m, n, 2), dtype=np.float32)\n",
    "@jit(nopython=True)\n",
    "def call_q(q, img, fg_probs, fg_means, fg_sigmas, bg_probs, bg_means, bg_sigmas, m, n):\n",
    "    c = ((2*np.pi)**(5/2))\n",
    "    for i in range(m):\n",
    "        for j in range(n):\n",
    "            for fg_index in range(len(fg_probs)):\n",
    "                exp_value = np.exp(-0.5*(img[i, j, :] - fg_means[fg_index]).dot(np.linalg.inv(fg_sigmas[fg_index])).dot(img[i, j, :] - fg_means[fg_index]))\n",
    "                q[i, j, 0] += fg_probs[fg_index]*c*np.sqrt(det(fg_sigmas[fg_index]))\n",
    "            for bg_index in range(len(bg_probs)):\n",
    "                exp_value = np.exp(-0.5*(img[i, j, :] - bg_means[bg_index]).dot(np.linalg.inv(bg_sigmas[bg_index])).dot(img[i, j, :] - bg_means[bg_index]))\n",
    "                q[i, j, 1] += bg_probs[bg_index]*c*np.sqrt(det(bg_sigmas[bg_index]))\n",
    "call_q(q, img, fg_probs, fg_means, fg_sigmas, bg_probs, bg_means, bg_sigmas, m, n)"
   ]
  },
  {
   "cell_type": "code",
   "execution_count": 6,
   "metadata": {},
   "outputs": [
    {
     "name": "stdout",
     "output_type": "stream",
     "text": [
      "116.94202780723572\n"
     ]
    }
   ],
   "source": [
    "C = np.array([0, 1])\n",
    "start_time = time.time()\n",
    "L, U, D, R, phi = trws(m, n, C, g, q)\n",
    "end_time = time.time()\n",
    "print(end_time - start_time)"
   ]
  },
  {
   "cell_type": "code",
   "execution_count": 7,
   "metadata": {},
   "outputs": [
    {
     "data": {
      "image/png": "[encoded data removed]",
      "text/plain": [
       "<PIL.Image.Image image mode=L size=800x533 at 0x26D53B21B48>"
      ]
     },
     "execution_count": 7,
     "metadata": {},
     "output_type": "execute_result"
    }
   ],
   "source": [
    "new_img = np.zeros((m, n), dtype=np.uint8)\n",
    "for i in range(0, m):\n",
    "    for j in range(1, n-1):\n",
    "        new_img[i, j] = restore_k(i, j, C, L, R, q, phi)\n",
    "Image.fromarray(new_img*255)"
   ]
  },
  {
   "cell_type": "code",
   "execution_count": null,
   "metadata": {},
   "outputs": [],
   "source": []
  }
 ],
 "metadata": {
  "kernelspec": {
   "display_name": "Python 3",
   "language": "python",
   "name": "python3"
  },
  "language_info": {
   "codemirror_mode": {
    "name": "ipython",
    "version": 3
   },
   "file_extension": ".py",
   "mimetype": "text/x-python",
   "name": "python",
   "nbconvert_exporter": "python",
   "pygments_lexer": "ipython3",
   "version": "3.7.4"
  }
 },
 "nbformat": 4,
 "nbformat_minor": 2
}
